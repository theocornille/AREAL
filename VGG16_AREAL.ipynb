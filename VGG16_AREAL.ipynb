{
 "cells": [
  {
   "cell_type": "code",
   "execution_count": 1,
   "metadata": {},
   "outputs": [
    {
     "name": "stderr",
     "output_type": "stream",
     "text": [
      "Using TensorFlow backend.\n"
     ]
    }
   ],
   "source": [
    "import numpy as np\n",
    "import keras\n",
    "import matplotlib.pyplot as plt\n",
    "import random\n",
    "random.seed(42)\n",
    "import re"
   ]
  },
  {
   "cell_type": "code",
   "execution_count": 2,
   "metadata": {},
   "outputs": [],
   "source": [
    "model_dir = \"sample_code_submission\"\n",
    "result_dir = 'sample_result_submission/' \n",
    "problem_dir = 'ingestion_program/'  \n",
    "score_dir = 'scoring_program/'"
   ]
  },
  {
   "cell_type": "code",
   "execution_count": 3,
   "metadata": {},
   "outputs": [],
   "source": [
    "from sys import path; path.append(model_dir); path.append(problem_dir); path.append(score_dir);"
   ]
  },
  {
   "cell_type": "code",
   "execution_count": 4,
   "metadata": {},
   "outputs": [],
   "source": [
    "data_dir = 'input_data'\n",
    "data_name = 'Areal'"
   ]
  },
  {
   "cell_type": "markdown",
   "metadata": {},
   "source": [
    "**Read DATA**"
   ]
  },
  {
   "cell_type": "code",
   "execution_count": 5,
   "metadata": {},
   "outputs": [
    {
     "name": "stdout",
     "output_type": "stream",
     "text": [
      "Reading input_data/Areal_train from AutoML format\n",
      "Number of examples = 5200\n",
      "Number of features = 49152\n",
      "        Class\n",
      "0       beach\n",
      "1   chaparral\n",
      "2       cloud\n",
      "3      desert\n",
      "4      forest\n",
      "5      island\n",
      "6        lake\n",
      "7      meadow\n",
      "8    mountain\n",
      "9       river\n",
      "10        sea\n",
      "11   snowberg\n",
      "12    wetland\n",
      "Number of classes = 13\n"
     ]
    }
   ],
   "source": [
    "from ingestion_program.data_io import read_as_df\n",
    "data = read_as_df(data_dir  + '/' + data_name)"
   ]
  },
  {
   "cell_type": "code",
   "execution_count": 6,
   "metadata": {},
   "outputs": [
    {
     "data": {
      "text/html": [
       "<div>\n",
       "<style scoped>\n",
       "    .dataframe tbody tr th:only-of-type {\n",
       "        vertical-align: middle;\n",
       "    }\n",
       "\n",
       "    .dataframe tbody tr th {\n",
       "        vertical-align: top;\n",
       "    }\n",
       "\n",
       "    .dataframe thead th {\n",
       "        text-align: right;\n",
       "    }\n",
       "</style>\n",
       "<table border=\"1\" class=\"dataframe\">\n",
       "  <thead>\n",
       "    <tr style=\"text-align: right;\">\n",
       "      <th></th>\n",
       "      <th>pixel_1_1_R</th>\n",
       "      <th>pixel_1_1_G</th>\n",
       "      <th>pixel_1_1_B</th>\n",
       "      <th>pixel_1_2_R</th>\n",
       "      <th>pixel_1_2_G</th>\n",
       "      <th>pixel_1_2_B</th>\n",
       "      <th>pixel_1_3_R</th>\n",
       "      <th>pixel_1_3_G</th>\n",
       "      <th>pixel_1_3_B</th>\n",
       "      <th>pixel_1_4_R</th>\n",
       "      <th>...</th>\n",
       "      <th>pixel_128_126_R</th>\n",
       "      <th>pixel_128_126_G</th>\n",
       "      <th>pixel_128_126_B</th>\n",
       "      <th>pixel_128_127_R</th>\n",
       "      <th>pixel_128_127_G</th>\n",
       "      <th>pixel_128_127_B</th>\n",
       "      <th>pixel_128_128_R</th>\n",
       "      <th>pixel_128_128_G</th>\n",
       "      <th>pixel_128_128_B</th>\n",
       "      <th>target</th>\n",
       "    </tr>\n",
       "  </thead>\n",
       "  <tbody>\n",
       "    <tr>\n",
       "      <th>0</th>\n",
       "      <td>109</td>\n",
       "      <td>134</td>\n",
       "      <td>112</td>\n",
       "      <td>64</td>\n",
       "      <td>89</td>\n",
       "      <td>67</td>\n",
       "      <td>90</td>\n",
       "      <td>114</td>\n",
       "      <td>90</td>\n",
       "      <td>109</td>\n",
       "      <td>...</td>\n",
       "      <td>92</td>\n",
       "      <td>115</td>\n",
       "      <td>89</td>\n",
       "      <td>100</td>\n",
       "      <td>120</td>\n",
       "      <td>95</td>\n",
       "      <td>107</td>\n",
       "      <td>127</td>\n",
       "      <td>102</td>\n",
       "      <td>island</td>\n",
       "    </tr>\n",
       "    <tr>\n",
       "      <th>1</th>\n",
       "      <td>68</td>\n",
       "      <td>73</td>\n",
       "      <td>66</td>\n",
       "      <td>63</td>\n",
       "      <td>68</td>\n",
       "      <td>61</td>\n",
       "      <td>66</td>\n",
       "      <td>69</td>\n",
       "      <td>62</td>\n",
       "      <td>72</td>\n",
       "      <td>...</td>\n",
       "      <td>83</td>\n",
       "      <td>79</td>\n",
       "      <td>67</td>\n",
       "      <td>112</td>\n",
       "      <td>105</td>\n",
       "      <td>95</td>\n",
       "      <td>115</td>\n",
       "      <td>108</td>\n",
       "      <td>100</td>\n",
       "      <td>beach</td>\n",
       "    </tr>\n",
       "    <tr>\n",
       "      <th>2</th>\n",
       "      <td>119</td>\n",
       "      <td>142</td>\n",
       "      <td>122</td>\n",
       "      <td>110</td>\n",
       "      <td>134</td>\n",
       "      <td>112</td>\n",
       "      <td>104</td>\n",
       "      <td>129</td>\n",
       "      <td>107</td>\n",
       "      <td>104</td>\n",
       "      <td>...</td>\n",
       "      <td>131</td>\n",
       "      <td>132</td>\n",
       "      <td>136</td>\n",
       "      <td>130</td>\n",
       "      <td>131</td>\n",
       "      <td>136</td>\n",
       "      <td>134</td>\n",
       "      <td>135</td>\n",
       "      <td>140</td>\n",
       "      <td>beach</td>\n",
       "    </tr>\n",
       "    <tr>\n",
       "      <th>3</th>\n",
       "      <td>203</td>\n",
       "      <td>187</td>\n",
       "      <td>171</td>\n",
       "      <td>196</td>\n",
       "      <td>180</td>\n",
       "      <td>164</td>\n",
       "      <td>195</td>\n",
       "      <td>180</td>\n",
       "      <td>161</td>\n",
       "      <td>192</td>\n",
       "      <td>...</td>\n",
       "      <td>132</td>\n",
       "      <td>114</td>\n",
       "      <td>100</td>\n",
       "      <td>105</td>\n",
       "      <td>87</td>\n",
       "      <td>73</td>\n",
       "      <td>57</td>\n",
       "      <td>39</td>\n",
       "      <td>25</td>\n",
       "      <td>chaparral</td>\n",
       "    </tr>\n",
       "    <tr>\n",
       "      <th>4</th>\n",
       "      <td>229</td>\n",
       "      <td>222</td>\n",
       "      <td>203</td>\n",
       "      <td>227</td>\n",
       "      <td>220</td>\n",
       "      <td>201</td>\n",
       "      <td>225</td>\n",
       "      <td>218</td>\n",
       "      <td>199</td>\n",
       "      <td>233</td>\n",
       "      <td>...</td>\n",
       "      <td>83</td>\n",
       "      <td>105</td>\n",
       "      <td>102</td>\n",
       "      <td>59</td>\n",
       "      <td>81</td>\n",
       "      <td>78</td>\n",
       "      <td>82</td>\n",
       "      <td>104</td>\n",
       "      <td>101</td>\n",
       "      <td>beach</td>\n",
       "    </tr>\n",
       "  </tbody>\n",
       "</table>\n",
       "<p>5 rows × 49153 columns</p>\n",
       "</div>"
      ],
      "text/plain": [
       "   pixel_1_1_R  pixel_1_1_G  pixel_1_1_B  pixel_1_2_R  pixel_1_2_G  \\\n",
       "0          109          134          112           64           89   \n",
       "1           68           73           66           63           68   \n",
       "2          119          142          122          110          134   \n",
       "3          203          187          171          196          180   \n",
       "4          229          222          203          227          220   \n",
       "\n",
       "   pixel_1_2_B  pixel_1_3_R  pixel_1_3_G  pixel_1_3_B  pixel_1_4_R    ...      \\\n",
       "0           67           90          114           90          109    ...       \n",
       "1           61           66           69           62           72    ...       \n",
       "2          112          104          129          107          104    ...       \n",
       "3          164          195          180          161          192    ...       \n",
       "4          201          225          218          199          233    ...       \n",
       "\n",
       "   pixel_128_126_R  pixel_128_126_G  pixel_128_126_B  pixel_128_127_R  \\\n",
       "0               92              115               89              100   \n",
       "1               83               79               67              112   \n",
       "2              131              132              136              130   \n",
       "3              132              114              100              105   \n",
       "4               83              105              102               59   \n",
       "\n",
       "   pixel_128_127_G  pixel_128_127_B  pixel_128_128_R  pixel_128_128_G  \\\n",
       "0              120               95              107              127   \n",
       "1              105               95              115              108   \n",
       "2              131              136              134              135   \n",
       "3               87               73               57               39   \n",
       "4               81               78               82              104   \n",
       "\n",
       "   pixel_128_128_B     target  \n",
       "0              102     island  \n",
       "1              100      beach  \n",
       "2              140      beach  \n",
       "3               25  chaparral  \n",
       "4              101      beach  \n",
       "\n",
       "[5 rows x 49153 columns]"
      ]
     },
     "execution_count": 6,
     "metadata": {},
     "output_type": "execute_result"
    }
   ],
   "source": [
    "data.head()"
   ]
  },
  {
   "cell_type": "markdown",
   "metadata": {},
   "source": [
    "**Transform DATA**"
   ]
  },
  {
   "cell_type": "code",
   "execution_count": 5,
   "metadata": {},
   "outputs": [
    {
     "name": "stdout",
     "output_type": "stream",
     "text": [
      "Info file found : C:\\Users\\TCO\\Desktop\\CHALL AREAL\\input_data\\Areal_public.info\n",
      "========= Reading input_data\\Areal_feat.type\n",
      "[+] Success in  0.01 sec\n",
      "========= Reading input_data\\Areal_train.data\n",
      "[+] Success in 73.55 sec\n",
      "========= Reading input_data\\Areal_train.solution\n",
      "[+] Success in  0.02 sec\n",
      "========= Reading input_data\\Areal_valid.data\n",
      "[+] Success in 24.92 sec\n",
      "========= Reading input_data\\Areal_valid.solution\n",
      "[+] Success in  0.02 sec\n",
      "========= Reading input_data\\Areal_test.data\n",
      "[+] Success in 25.07 sec\n",
      "========= Reading input_data\\Areal_test.solution\n",
      "[+] Success in  0.01 sec\n",
      "DataManager : Areal\n",
      "info:\n",
      "\tname = areal\n",
      "\tmetric = accuracy\n",
      "\tvalid_num = 1950\n",
      "\ttest_num = 1950\n",
      "\thas_categorical = 0\n",
      "\tis_sparse = 0\n",
      "\thas_missing = 0\n",
      "\tfeat_num = 49152\n",
      "\ttrain_num = 5200\n",
      "\tfeat_type = Numerical\n",
      "\tformat = dense\n",
      "\ttarget_type = Categorical\n",
      "\ttime_budget = 12000\n",
      "\tusage = Sample dataset Areal data\n",
      "\ttarget_num = 13\n",
      "\ttask = multiclass.classification\n",
      "\tlabel_num = 13\n",
      "data:\n",
      "\tX_train = array(5200, 49152)\n",
      "\tY_train = array(5200, 1)\n",
      "\tX_valid = array(1950, 49152)\n",
      "\tY_valid = array(1950, 1)\n",
      "\tX_test = array(1950, 49152)\n",
      "\tY_test = array(1950, 1)\n",
      "feat_type:\tarray(0,)\n",
      "feat_idx:\tarray(0,)\n",
      "\n"
     ]
    }
   ],
   "source": [
    "from data_manager import DataManager\n",
    "D = DataManager(data_name, data_dir, replace_missing=False, verbose=True)\n",
    "print(D)"
   ]
  },
  {
   "cell_type": "code",
   "execution_count": 6,
   "metadata": {},
   "outputs": [],
   "source": [
    "X_train = D.data['X_train']\n",
    "Y_train = D.data['Y_train']"
   ]
  },
  {
   "cell_type": "code",
   "execution_count": 7,
   "metadata": {},
   "outputs": [],
   "source": [
    "X_valid = D.data['X_valid']\n",
    "Y_valid = D.data['Y_valid']"
   ]
  },
  {
   "cell_type": "code",
   "execution_count": 8,
   "metadata": {},
   "outputs": [],
   "source": [
    "X_test = D.data['X_test']\n",
    "Y_test = D.data['Y_test']"
   ]
  },
  {
   "cell_type": "code",
   "execution_count": 9,
   "metadata": {},
   "outputs": [],
   "source": [
    "X_train = X_train.reshape(5200, 128, 128, 3)\n",
    "X_valid = X_valid.reshape(1950, 128, 128, 3)\n",
    "X_test = X_test.reshape(1950, 128, 128, 3)"
   ]
  },
  {
   "cell_type": "code",
   "execution_count": 10,
   "metadata": {},
   "outputs": [],
   "source": [
    "from keras.utils import to_categorical\n",
    "\n",
    "num_classes=13\n",
    "\n",
    "Y_train = to_categorical(Y_train, num_classes)\n",
    "Y_valid = to_categorical(Y_valid, num_classes)\n",
    "Y_test = to_categorical(Y_test, num_classes)"
   ]
  },
  {
   "cell_type": "markdown",
   "metadata": {},
   "source": [
    "**Create Model**"
   ]
  },
  {
   "cell_type": "code",
   "execution_count": 45,
   "metadata": {},
   "outputs": [],
   "source": [
    "from keras import models\n",
    "from keras import layers\n",
    "from keras import optimizers\n",
    "import keras.backend as K\n",
    "from keras.applications import VGG16\n",
    "\n",
    "conv_base = VGG16(weights='imagenet',include_top=False,input_shape=(128,128,3))\n",
    "conv_base.trainable = False\n",
    "\n",
    "# Design model\n",
    "model = models.Sequential()\n",
    "model.add(conv_base)\n",
    "model.add(layers.Flatten())\n",
    "model.add(layers.Dense(256, activation='relu'))\n",
    "model.add(layers.Dense(13,activation='softmax'))\n",
    "\n",
    "rms=optimizers.RMSprop(lr=1e-4, decay=1e-5)\n",
    "\n",
    "model.compile(loss='categorical_crossentropy',optimizer=rms,metrics=['accuracy'])"
   ]
  },
  {
   "cell_type": "code",
   "execution_count": 46,
   "metadata": {},
   "outputs": [
    {
     "name": "stdout",
     "output_type": "stream",
     "text": [
      "_________________________________________________________________\n",
      "Layer (type)                 Output Shape              Param #   \n",
      "=================================================================\n",
      "vgg16 (Model)                (None, 4, 4, 512)         14714688  \n",
      "_________________________________________________________________\n",
      "flatten_2 (Flatten)          (None, 8192)              0         \n",
      "_________________________________________________________________\n",
      "dense_3 (Dense)              (None, 256)               2097408   \n",
      "_________________________________________________________________\n",
      "dense_4 (Dense)              (None, 13)                3341      \n",
      "=================================================================\n",
      "Total params: 16,815,437\n",
      "Trainable params: 2,100,749\n",
      "Non-trainable params: 14,714,688\n",
      "_________________________________________________________________\n"
     ]
    }
   ],
   "source": [
    "model.summary()"
   ]
  },
  {
   "cell_type": "code",
   "execution_count": 47,
   "metadata": {},
   "outputs": [],
   "source": [
    "from keras.preprocessing.image import ImageDataGenerator\n",
    "\n",
    "datagen = ImageDataGenerator(\n",
    "    rescale=1./255,\n",
    "    rotation_range=20,\n",
    "    width_shift_range=0.2,\n",
    "    height_shift_range=0.2,\n",
    "    shear_range=0.2,\n",
    "    zoom_range=0.2,\n",
    "    horizontal_flip=True,\n",
    "    fill_mode='nearest')\n",
    "\n",
    "test_datagen = ImageDataGenerator(rescale=1./255)"
   ]
  },
  {
   "cell_type": "markdown",
   "metadata": {},
   "source": [
    "**Class to get Test Accuracy**"
   ]
  },
  {
   "cell_type": "code",
   "execution_count": 49,
   "metadata": {},
   "outputs": [],
   "source": [
    "history_test_acc=[]\n",
    "from keras.callbacks import Callback\n",
    "class TestCallback(Callback):\n",
    "    def __init__(self, test_data):\n",
    "        self.test_data = test_data\n",
    "\n",
    "    def on_epoch_end(self, epoch, log={}):\n",
    "        x, y = self.test_data\n",
    "        test_generator=test_datagen.flow(x, y, batch_size=batch_size)\n",
    "        loss, acc = self.model.evaluate_generator(test_generator, steps=len(X_test)/batch_size)\n",
    "        print('\\nTesting loss: {}, acc: {}\\n'.format(loss, acc))\n",
    "        history_test_acc.append(acc)"
   ]
  },
  {
   "cell_type": "markdown",
   "metadata": {},
   "source": [
    "**Fit**"
   ]
  },
  {
   "cell_type": "code",
   "execution_count": 48,
   "metadata": {},
   "outputs": [],
   "source": [
    "datagen.fit(X_train)"
   ]
  },
  {
   "cell_type": "code",
   "execution_count": 50,
   "metadata": {
    "scrolled": false
   },
   "outputs": [
    {
     "name": "stdout",
     "output_type": "stream",
     "text": [
      "Epoch 1/15\n",
      "163/162 [==============================] - 16s 98ms/step - loss: 1.5038 - acc: 0.5550 - val_loss: 1.0378 - val_acc: 0.7021\n",
      "\n",
      "Testing loss: 1.0110599951866346, acc: 0.7179487177041861\n",
      "\n",
      "Epoch 2/15\n",
      "163/162 [==============================] - 15s 91ms/step - loss: 0.9805 - acc: 0.7082 - val_loss: 0.8559 - val_acc: 0.7174\n",
      "\n",
      "Testing loss: 0.8364064385952094, acc: 0.7364102565936553\n",
      "\n",
      "Epoch 3/15\n",
      "163/162 [==============================] - 15s 92ms/step - loss: 0.8248 - acc: 0.7456 - val_loss: 0.7115 - val_acc: 0.7810\n",
      "\n",
      "Testing loss: 0.6967126096823276, acc: 0.7958974361419677\n",
      "\n",
      "Epoch 4/15\n",
      "163/162 [==============================] - 15s 91ms/step - loss: 0.7394 - acc: 0.7743 - val_loss: 0.6613 - val_acc: 0.7985\n",
      "\n",
      "Testing loss: 0.65723124620242, acc: 0.8087179484734168\n",
      "\n",
      "Epoch 5/15\n",
      "163/162 [==============================] - 15s 92ms/step - loss: 0.6774 - acc: 0.7874 - val_loss: 0.6447 - val_acc: 0.8010\n",
      "\n",
      "Testing loss: 0.642663720143147, acc: 0.8087179489013476\n",
      "\n",
      "Epoch 6/15\n",
      "163/162 [==============================] - 15s 91ms/step - loss: 0.6490 - acc: 0.7941 - val_loss: 0.6101 - val_acc: 0.8077\n",
      "\n",
      "Testing loss: 0.6130320401680776, acc: 0.8035897432840787\n",
      "\n",
      "Epoch 7/15\n",
      "163/162 [==============================] - 15s 91ms/step - loss: 0.5979 - acc: 0.8129 - val_loss: 0.5680 - val_acc: 0.8195\n",
      "\n",
      "Testing loss: 0.5723256290264619, acc: 0.8235897437120095\n",
      "\n",
      "Epoch 8/15\n",
      "163/162 [==============================] - 15s 91ms/step - loss: 0.5907 - acc: 0.8096 - val_loss: 0.5291 - val_acc: 0.8359\n",
      "\n",
      "Testing loss: 0.5502868231443259, acc: 0.8348717949940608\n",
      "\n",
      "Epoch 9/15\n",
      "163/162 [==============================] - 15s 92ms/step - loss: 0.5540 - acc: 0.8173 - val_loss: 0.6188 - val_acc: 0.7949\n",
      "\n",
      "Testing loss: 0.6388234955225235, acc: 0.7979487176430531\n",
      "\n",
      "Epoch 10/15\n",
      "163/162 [==============================] - 15s 91ms/step - loss: 0.5478 - acc: 0.8213 - val_loss: 0.5531 - val_acc: 0.8246\n",
      "\n",
      "Testing loss: 0.5684778163677607, acc: 0.8143589744812403\n",
      "\n",
      "Epoch 11/15\n",
      "163/162 [==============================] - 15s 91ms/step - loss: 0.5169 - acc: 0.8305 - val_loss: 0.5181 - val_acc: 0.8369\n",
      "\n",
      "Testing loss: 0.5300202756050305, acc: 0.8266666669723315\n",
      "\n",
      "Epoch 12/15\n",
      "163/162 [==============================] - 15s 91ms/step - loss: 0.5174 - acc: 0.8332 - val_loss: 0.4948 - val_acc: 0.8364\n",
      "\n",
      "Testing loss: 0.5055437036049671, acc: 0.8389743586686941\n",
      "\n",
      "Epoch 13/15\n",
      "163/162 [==============================] - 15s 91ms/step - loss: 0.4983 - acc: 0.8353 - val_loss: 0.4828 - val_acc: 0.8467\n",
      "\n",
      "Testing loss: 0.5132765686206329, acc: 0.8415384611716638\n",
      "\n",
      "Epoch 14/15\n",
      "163/162 [==============================] - 15s 91ms/step - loss: 0.4830 - acc: 0.8441 - val_loss: 0.5855 - val_acc: 0.8118\n",
      "\n",
      "Testing loss: 0.608709054054358, acc: 0.8076923074477759\n",
      "\n",
      "Epoch 15/15\n",
      "163/162 [==============================] - 15s 91ms/step - loss: 0.4773 - acc: 0.8445 - val_loss: 0.4760 - val_acc: 0.8446\n",
      "\n",
      "Testing loss: 0.489691258699466, acc: 0.8461538462761121\n",
      "\n"
     ]
    }
   ],
   "source": [
    "epochs=15\n",
    "batch_size=32\n",
    "\n",
    "train_generator=datagen.flow(X_train, Y_train, batch_size=batch_size)\n",
    "validation_generator=test_datagen.flow(X_valid, Y_valid, batch_size=batch_size)\n",
    "#callbacks=[keras.callbacks.EarlyStopping(monitor='val_loss', min_delta=0, patience=5, verbose=0, mode='auto')]\n",
    "#callbacks=callbacks\n",
    "history = model.fit_generator(generator=train_generator, callbacks=[TestCallback((X_test, Y_test))], steps_per_epoch=len(X_train)/batch_size, epochs = epochs, validation_data=validation_generator, validation_steps=len(X_valid)/batch_size)"
   ]
  },
  {
   "cell_type": "markdown",
   "metadata": {},
   "source": [
    "**Save Data**"
   ]
  },
  {
   "cell_type": "code",
   "execution_count": 53,
   "metadata": {},
   "outputs": [],
   "source": [
    "mylist = history_test_acc"
   ]
  },
  {
   "cell_type": "code",
   "execution_count": 55,
   "metadata": {},
   "outputs": [],
   "source": [
    "import pickle\n",
    "\n",
    "with open('test_acc_vgg16.pkl', 'wb') as f:\n",
    "    pickle.dump(mylist, f)"
   ]
  },
  {
   "cell_type": "markdown",
   "metadata": {},
   "source": [
    "**Display Results**"
   ]
  },
  {
   "cell_type": "code",
   "execution_count": 56,
   "metadata": {},
   "outputs": [],
   "source": [
    "training_loss_value, training_acc_value = model.evaluate_generator(train_generator, steps=len(X_train)/batch_size)\n",
    "valid_loss_value, valid_acc_value = model.evaluate_generator(validation_generator, steps=len(X_valid)/batch_size)"
   ]
  },
  {
   "cell_type": "code",
   "execution_count": 57,
   "metadata": {},
   "outputs": [
    {
     "name": "stdout",
     "output_type": "stream",
     "text": [
      "training loss : 0.4575\n",
      "validation_loss : 0.4819\n",
      " \n",
      "training accuracy : 84.96 %\n",
      "validation accuracy : 84.05 %\n"
     ]
    }
   ],
   "source": [
    "print('training loss : {:.4f}'.format(training_loss_value))\n",
    "print('validation_loss : {:.4f}'.format(valid_loss_value))\n",
    "print(' ')\n",
    "print('training accuracy : {:.2f} %'.format(100*training_acc_value))\n",
    "print('validation accuracy : {:.2f} %'.format(100*valid_acc_value))"
   ]
  },
  {
   "cell_type": "markdown",
   "metadata": {},
   "source": [
    "**Plot**"
   ]
  },
  {
   "cell_type": "code",
   "execution_count": 58,
   "metadata": {},
   "outputs": [
    {
     "data": {
      "text/plain": [
       "dict_keys(['val_loss', 'acc', 'val_acc', 'loss'])"
      ]
     },
     "execution_count": 58,
     "metadata": {},
     "output_type": "execute_result"
    }
   ],
   "source": [
    "history.history.keys()"
   ]
  },
  {
   "cell_type": "code",
   "execution_count": 59,
   "metadata": {},
   "outputs": [],
   "source": [
    "acc = history.history['acc']\n",
    "val_acc = history.history['val_acc']\n",
    "loss=history.history['loss']\n",
    "val_loss=history.history['val_loss']"
   ]
  },
  {
   "cell_type": "code",
   "execution_count": 60,
   "metadata": {},
   "outputs": [
    {
     "data": {
      "image/png": "[encoded data removed]",
      "text/plain": [
       "<Figure size 432x288 with 1 Axes>"
      ]
     },
     "metadata": {
      "needs_background": "light"
     },
     "output_type": "display_data"
    },
    {
     "data": {
      "image/png": "[encoded data removed]",
      "text/plain": [
       "<Figure size 432x288 with 1 Axes>"
      ]
     },
     "metadata": {
      "needs_background": "light"
     },
     "output_type": "display_data"
    }
   ],
   "source": [
    "num_epochs=range(1,len(loss)+1)\n",
    "\n",
    "plt.plot(num_epochs, loss, 'bo', label='Training loss')\n",
    "plt.plot(num_epochs, val_loss, 'b', label='Validation loss')\n",
    "plt.title('Training and validation loss')\n",
    "plt.xlabel('Epochs')\n",
    "plt.ylabel('Loss')\n",
    "plt.legend()\n",
    "\n",
    "plt.figure()\n",
    "\n",
    "plt.plot(num_epochs, acc, 'bo', label='Training accuracy')\n",
    "plt.plot(num_epochs, val_acc, 'b', label='Validation accuracy')\n",
    "plt.title('Training and validation accuracy')\n",
    "plt.xlabel('Epochs')\n",
    "plt.ylabel('Accuracy')\n",
    "plt.legend()\n",
    "\n",
    "plt.show()"
   ]
  },
  {
   "cell_type": "markdown",
   "metadata": {},
   "source": [
    "**Heat Map**"
   ]
  },
  {
   "cell_type": "code",
   "execution_count": 61,
   "metadata": {},
   "outputs": [],
   "source": [
    "train_pred = model.predict(X_train)\n",
    "valid_pred = model.predict(X_valid)"
   ]
  },
  {
   "cell_type": "code",
   "execution_count": 62,
   "metadata": {},
   "outputs": [
    {
     "data": {
      "image/png": "[encoded data removed]",
      "text/plain": [
       "<Figure size 720x504 with 2 Axes>"
      ]
     },
     "metadata": {
      "needs_background": "light"
     },
     "output_type": "display_data"
    }
   ],
   "source": [
    "import seaborn as sn\n",
    "import pandas as pd\n",
    "from sklearn.metrics import confusion_matrix\n",
    "\n",
    "array = confusion_matrix(D.data['Y_valid'], valid_pred.argmax(axis=1))\n",
    "array = array.astype('float') / array.sum(axis=1)[:, np.newaxis]\n",
    "\n",
    "df_cm = pd.DataFrame(array, range(13),range(13))\n",
    "plt.figure(figsize = (10,7))\n",
    "sn.set(font_scale=1.4)#for label size\n",
    "sn.heatmap(df_cm, annot=True,annot_kws={\"size\": 10})# font size\n",
    "plt.xlabel('Classe Prédite')\n",
    "plt.ylabel('Classe réelle')\n",
    "plt.show()"
   ]
  },
  {
   "cell_type": "markdown",
   "metadata": {},
   "source": [
    "**Final Score**"
   ]
  },
  {
   "cell_type": "code",
   "execution_count": 63,
   "metadata": {},
   "outputs": [],
   "source": [
    "batch_size=32\n",
    "test_generator=test_datagen.flow(X_test, Y_test, batch_size=batch_size)\n",
    "test_loss, test_acc = model.evaluate_generator(test_generator, steps=len(X_test)/batch_size)"
   ]
  },
  {
   "cell_type": "code",
   "execution_count": 64,
   "metadata": {},
   "outputs": [
    {
     "name": "stdout",
     "output_type": "stream",
     "text": [
      "Final Loss: 0.48969125983042594\n",
      "Final acc: 84.61538457870483\n"
     ]
    }
   ],
   "source": [
    "print('Final Loss:', test_loss)\n",
    "print('Final acc:', 100*test_acc)"
   ]
  },
  {
   "cell_type": "code",
   "execution_count": null,
   "metadata": {},
   "outputs": [],
   "source": []
  }
 ],
 "metadata": {
  "kernelspec": {
   "display_name": "Python 3",
   "language": "python",
   "name": "python3"
  },
  "language_info": {
   "codemirror_mode": {
    "name": "ipython",
    "version": 3
   },
   "file_extension": ".py",
   "mimetype": "text/x-python",
   "name": "python",
   "nbconvert_exporter": "python",
   "pygments_lexer": "ipython3",
   "version": "3.5.6"
  }
 },
 "nbformat": 4,
 "nbformat_minor": 2
}
